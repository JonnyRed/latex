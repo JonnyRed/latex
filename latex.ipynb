{
 "cells": [
  {
   "cell_type": "markdown",
   "metadata": {},
   "source": [
    "# Latex Notes\n",
    "\n",
    "A Latex set of notes of latex constructs that I come across and use.\n",
    "\n",
    "## Parentheses\n",
    "\n",
    "Use of `\\right.` and `\\left.` to eliminate a braces or parentheses.\n",
    "\n",
    "\\begin{align*} \n",
    "    \\left. \\large \\text{Hello World } \\right \\{  \n",
    "\\end{align*}\n",
    "\n",
    "\\begin{align*} \n",
    "    \\left. \\frac{d}{d x} \\right |_{x=0}\n",
    "\\end{align*}"
   ]
  },
  {
   "cell_type": "markdown",
   "metadata": {},
   "source": [
    "\n",
    "## Arrays and Matrices\n",
    "\n",
    "### Bracket matrix \n",
    "\n",
    "\\begin{align*} \n",
    "\n",
    "    \\left  [ \n",
    "        \\begin{matrix}\n",
    "            a & b \\\\\n",
    "            c & d \n",
    "        \\end{matrix}\n",
    "    \\right ]    \n",
    "    \n",
    "\\end{align*}\n",
    "\n",
    "### Value matrix\n",
    "\n",
    "\\begin{align*} \n",
    "\n",
    "        \\begin{matrix}\n",
    "            a & b \\\\\n",
    "            c & d \n",
    "        \\end{matrix}\n",
    "    \n",
    "\\end{align*}\n",
    "\n"
   ]
  },
  {
   "cell_type": "markdown",
   "metadata": {},
   "source": [
    "## Cases\n",
    "\n",
    "\\begin{align*} \n",
    "    Z^{i^\\prime} &= Z^{i^\\prime}(Z) \n",
    "    \\begin{cases}\n",
    "        x = x(r, \\theta, \\phi), \\; x = r \\sin \\theta \\cos \\phi \\\\\n",
    "        y = y(r, \\theta, \\phi), \\; y = r \\sin \\theta \\sin \\phi  \\\\ \n",
    "        z = y(r, \\theta, \\phi), \\; z = \\cos \\phi  \\\\ \n",
    "    \\end{cases}\n",
    "\\end{align*}\n"
   ]
  }
 ],
 "metadata": {
  "kernelspec": {
   "display_name": "Fluent-Python",
   "language": "python",
   "name": "python3"
  },
  "language_info": {
   "name": "python",
   "version": "3.10.12"
  }
 },
 "nbformat": 4,
 "nbformat_minor": 2
}
